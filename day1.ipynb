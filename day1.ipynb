food = input()

def three_elves_with_most_calories(food):        
        lines = food.split('  ')        
        food = [line.split() for line in lines]
        x = [[int(j) for j in i] for i in food]        
        return sum(sorted(sum(l) for l in x)[-3:])

def elf_with_most_calories(food):        
        lines = food.split('  ')
        food = [line.split() for line in lines]
        x = [[int(j) for j in i] for i in food]        
        return sum(sorted(sum(l) for l in x)[-1:])

tree=three_elves_with_most_calories(food)
print("Food 3")
print(tree)
best=elf_with_most_calories(food)
print("Food best")
print(best)
